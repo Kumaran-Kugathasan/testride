{
  "nbformat": 4,
  "nbformat_minor": 0,
  "metadata": {
    "colab": {
      "name": "Ride Classification.ipynb",
      "provenance": [],
      "authorship_tag": "ABX9TyNOhFdD+jgMwbxEDMlIG+Pb"
    },
    "kernelspec": {
      "name": "python3",
      "display_name": "Python 3"
    }
  },
  "cells": [
    {
      "cell_type": "code",
      "metadata": {
        "id": "8lttL7fmiW86",
        "colab_type": "code",
        "colab": {}
      },
      "source": [
        "import math\n",
        "import csv\n",
        "import numpy as np\n",
        "import pandas as pd\n",
        "from sklearn import metrics\n",
        "from datetime import datetime\n",
        "from xgboost import XGBClassifier\n",
        "from sklearn.model_selection import train_test_split\n"
      ],
      "execution_count": null,
      "outputs": []
    },
    {
      "cell_type": "code",
      "metadata": {
        "id": "KTnPxRNaUce1",
        "colab_type": "code",
        "colab": {}
      },
      "source": [
        "# Preparing training data\n",
        "def compute_column(csv_file):\n",
        "    with open(csv_file, newline='') as f:\n",
        "        with open('refined_train.csv', 'w', newline='') as f2:\n",
        "            writer = csv.writer(f2)\n",
        "            rows = csv.reader(f)\n",
        "            r = 6373.0\n",
        "            for row in rows:\n",
        "                lat1 = math.radians(float(row[8]))\n",
        "                lat2 = math.radians(float(row[10]))\n",
        "                delta_lat = abs(lat1 - lat2)\n",
        "                delta_lon = abs(math.radians(float(row[9])) - math.radians(float(row[11])))\n",
        "                a = math.sin(delta_lat / 2) ** 2 + math.cos(lat1) * math.cos(lat2) * math.sin(delta_lon / 2) ** 2\n",
        "                c = 2 * math.atan2(math.sqrt(a), math.sqrt(1 - a))\n",
        "                distance = r * c\n",
        "          \n",
        "                writer.writerow(row[0:8] + [delta_lat] + [delta_lon] + [distance] +row[12:14])\n",
        "\n",
        "\n",
        "compute_column('/content/train.csv')"
      ],
      "execution_count": null,
      "outputs": []
    },
    {
      "cell_type": "code",
      "metadata": {
        "id": "t9ZhHM38gv9d",
        "colab_type": "code",
        "colab": {}
      },
      "source": [
        "# Preparing testing data\n",
        "def compute_column(csv_file):\n",
        "    with open(csv_file, newline='') as f:\n",
        "        with open('refined_test.csv', 'w', newline='') as f2:\n",
        "            writer = csv.writer(f2)\n",
        "            rows = csv.reader(f)\n",
        "            r = 6373.0\n",
        "            for row in rows:\n",
        "                lat1 = math.radians(float(row[8]))\n",
        "                lat2 = math.radians(float(row[10]))\n",
        "                delta_lat = abs(lat1 - lat2)\n",
        "                delta_lon = abs(math.radians(float(row[9])) - math.radians(float(row[11])))\n",
        "                a = math.sin(delta_lat / 2) ** 2 + math.cos(lat1) * math.cos(lat2) * math.sin(delta_lon / 2) ** 2\n",
        "                c = 2 * math.atan2(math.sqrt(a), math.sqrt(1 - a))\n",
        "                distance = r * c\n",
        "          \n",
        "                writer.writerow(row[0:8] + [delta_lat] + [delta_lon] + [distance] +row[12:13])\n",
        "\n",
        "\n",
        "compute_column('/content/test.csv')"
      ],
      "execution_count": null,
      "outputs": []
    },
    {
      "cell_type": "code",
      "metadata": {
        "id": "fBAb2Gs-pLVv",
        "colab_type": "code",
        "colab": {}
      },
      "source": [
        "data = pd.read_csv('/content/refined_train_header.csv',parse_dates=['pickup_time','drop_time'])"
      ],
      "execution_count": null,
      "outputs": []
    },
    {
      "cell_type": "code",
      "metadata": {
        "id": "umL2KLkQktf5",
        "colab_type": "code",
        "colab": {}
      },
      "source": [
        "data1= pd.read_csv('/content/refined_test_header.csv',parse_dates=['pickup_time','drop_time'])"
      ],
      "execution_count": null,
      "outputs": []
    },
    {
      "cell_type": "code",
      "metadata": {
        "id": "j6i5any3qlef",
        "colab_type": "code",
        "colab": {
          "base_uri": "https://localhost:8080/",
          "height": 255
        },
        "outputId": "eade3033-cbdf-4a36-ee61-2f6d90bc55de"
      },
      "source": [
        "data.isnull().sum()"
      ],
      "execution_count": null,
      "outputs": [
        {
          "output_type": "execute_result",
          "data": {
            "text/plain": [
              "tripid                         0\n",
              "additional_fare              202\n",
              "duration                     202\n",
              "meter_waiting                202\n",
              "meter_waiting_fare           202\n",
              "meter_waiting_till_pickup    202\n",
              "pickup_time                    0\n",
              "drop_time                      0\n",
              "lat_move                       0\n",
              "lon_move                       0\n",
              "distance                       0\n",
              "fare                         137\n",
              "label                          0\n",
              "dtype: int64"
            ]
          },
          "metadata": {
            "tags": []
          },
          "execution_count": 278
        }
      ]
    },
    {
      "cell_type": "code",
      "metadata": {
        "id": "SYtkkHlxk-dj",
        "colab_type": "code",
        "colab": {
          "base_uri": "https://localhost:8080/",
          "height": 238
        },
        "outputId": "4cfe8439-54f3-4638-c1ea-c8b7d64d2c56"
      },
      "source": [
        "data1.isnull().sum()"
      ],
      "execution_count": null,
      "outputs": [
        {
          "output_type": "execute_result",
          "data": {
            "text/plain": [
              "tripid                       0\n",
              "additional_fare              0\n",
              "duration                     0\n",
              "meter_waiting                0\n",
              "meter_waiting_fare           0\n",
              "meter_waiting_till_pickup    0\n",
              "pickup_time                  0\n",
              "drop_time                    0\n",
              "lat_move                     0\n",
              "lon_move                     0\n",
              "distance                     0\n",
              "fare                         0\n",
              "dtype: int64"
            ]
          },
          "metadata": {
            "tags": []
          },
          "execution_count": 153
        }
      ]
    },
    {
      "cell_type": "code",
      "metadata": {
        "id": "eJuiB0Uhq734",
        "colab_type": "code",
        "colab": {}
      },
      "source": [
        "data = data.dropna()"
      ],
      "execution_count": null,
      "outputs": []
    },
    {
      "cell_type": "code",
      "metadata": {
        "id": "GhM5h1jyUxQt",
        "colab_type": "code",
        "colab": {}
      },
      "source": [
        "# split training dataset into feature and target variables\n",
        "feature_columns = ['additional_fare', 'duration', 'meter_waiting', 'meter_waiting_fare',\n",
        "                   'meter_waiting_till_pickup','lat_move','lon_move','distance']\n",
        "\n",
        "x_train_Full = data[feature_columns]\n",
        "\n",
        "labelToBinary = {'correct': 1, 'incorrect': 0}\n",
        "data.label = [labelToBinary[item] for item in data.label]\n",
        "y_train_Full = data.label\n"
      ],
      "execution_count": null,
      "outputs": []
    },
    {
      "cell_type": "code",
      "metadata": {
        "id": "FoqqqCu_lVs7",
        "colab_type": "code",
        "colab": {}
      },
      "source": [
        "feature_test_columns = ['additional_fare', 'duration', 'meter_waiting', 'meter_waiting_fare',\n",
        "                   'meter_waiting_till_pickup','lat_move','lon_move','distance']\n",
        "                   "
      ],
      "execution_count": null,
      "outputs": []
    },
    {
      "cell_type": "code",
      "metadata": {
        "id": "D_V2cTOTloAR",
        "colab_type": "code",
        "colab": {}
      },
      "source": [
        "x_valid = data1[feature_test_columns]"
      ],
      "execution_count": null,
      "outputs": []
    },
    {
      "cell_type": "code",
      "metadata": {
        "id": "-X6Lv7Lr-M59",
        "colab_type": "code",
        "colab": {
          "base_uri": "https://localhost:8080/",
          "height": 71
        },
        "outputId": "b77f2c0f-4292-4c09-e0cb-846ac9f5c79e"
      },
      "source": [
        "import imblearn\n",
        "from imblearn.under_sampling import RandomUnderSampler\n",
        "#from imblearn.over_sampling import RandomOverSampler\n",
        "#oversample = RandomOverSampler(sampling_strategy='minority')\n",
        "oversample = RandomOverSampler(sampling_strategy=0.5)\n",
        "#undersample = RandomUnderSampler(sampling_strategy=0.1)\n",
        "#X_over, y_over = undersample.fit_resample(x_train_Full, y_train_Full)"
      ],
      "execution_count": null,
      "outputs": [
        {
          "output_type": "stream",
          "text": [
            "/usr/local/lib/python3.6/dist-packages/sklearn/utils/deprecation.py:87: FutureWarning: Function safe_indexing is deprecated; safe_indexing is deprecated in version 0.22 and will be removed in version 0.24.\n",
            "  warnings.warn(msg, category=FutureWarning)\n"
          ],
          "name": "stderr"
        }
      ]
    },
    {
      "cell_type": "code",
      "metadata": {
        "id": "2mDDbldO99X3",
        "colab_type": "code",
        "colab": {
          "base_uri": "https://localhost:8080/",
          "height": 71
        },
        "outputId": "aec199c5-7acf-446f-c41e-3640e857f8ce"
      },
      "source": [
        "X_over, y_over = oversample.fit_resample(x_train_Full, y_train_Full)"
      ],
      "execution_count": null,
      "outputs": [
        {
          "output_type": "stream",
          "text": [
            "/usr/local/lib/python3.6/dist-packages/sklearn/utils/deprecation.py:87: FutureWarning: Function safe_indexing is deprecated; safe_indexing is deprecated in version 0.22 and will be removed in version 0.24.\n",
            "  warnings.warn(msg, category=FutureWarning)\n"
          ],
          "name": "stderr"
        }
      ]
    },
    {
      "cell_type": "code",
      "metadata": {
        "id": "nVrDqJ_WeYy0",
        "colab_type": "code",
        "colab": {}
      },
      "source": [
        "X_over=x_train_Full\n",
        "y_over=y_train_Full"
      ],
      "execution_count": null,
      "outputs": []
    },
    {
      "cell_type": "code",
      "metadata": {
        "id": "PZK-TM1GtCyr",
        "colab_type": "code",
        "colab": {}
      },
      "source": [
        "x_train, x_test, y_train, y_test = train_test_split(X_over, y_over, test_size=0.3, random_state=1)"
      ],
      "execution_count": null,
      "outputs": []
    },
    {
      "cell_type": "code",
      "metadata": {
        "id": "lSNqDCxq-UmB",
        "colab_type": "code",
        "colab": {
          "base_uri": "https://localhost:8080/",
          "height": 34
        },
        "outputId": "6618ce41-0efd-489e-e53d-181ddf280a7c"
      },
      "source": [
        "from collections import Counter\n",
        "print(Counter(y_over))"
      ],
      "execution_count": null,
      "outputs": [
        {
          "output_type": "stream",
          "text": [
            "Counter({1: 15260, 0: 1526})\n"
          ],
          "name": "stdout"
        }
      ]
    },
    {
      "cell_type": "code",
      "metadata": {
        "id": "Q9xXCTOJCJcw",
        "colab_type": "code",
        "colab": {
          "base_uri": "https://localhost:8080/",
          "height": 173
        },
        "outputId": "643b4026-caf5-4398-da7f-11e336b7d209"
      },
      "source": [
        "X_over[:4]"
      ],
      "execution_count": null,
      "outputs": [
        {
          "output_type": "execute_result",
          "data": {
            "text/html": [
              "<div>\n",
              "<style scoped>\n",
              "    .dataframe tbody tr th:only-of-type {\n",
              "        vertical-align: middle;\n",
              "    }\n",
              "\n",
              "    .dataframe tbody tr th {\n",
              "        vertical-align: top;\n",
              "    }\n",
              "\n",
              "    .dataframe thead th {\n",
              "        text-align: right;\n",
              "    }\n",
              "</style>\n",
              "<table border=\"1\" class=\"dataframe\">\n",
              "  <thead>\n",
              "    <tr style=\"text-align: right;\">\n",
              "      <th></th>\n",
              "      <th>additional_fare</th>\n",
              "      <th>duration</th>\n",
              "      <th>meter_waiting</th>\n",
              "      <th>meter_waiting_fare</th>\n",
              "      <th>meter_waiting_till_pickup</th>\n",
              "      <th>lat_move</th>\n",
              "      <th>lon_move</th>\n",
              "      <th>distance</th>\n",
              "    </tr>\n",
              "  </thead>\n",
              "  <tbody>\n",
              "    <tr>\n",
              "      <th>0</th>\n",
              "      <td>10.5</td>\n",
              "      <td>834.0</td>\n",
              "      <td>56.0</td>\n",
              "      <td>0.0000</td>\n",
              "      <td>64.0</td>\n",
              "      <td>0.000712</td>\n",
              "      <td>0.000367</td>\n",
              "      <td>5.094369</td>\n",
              "    </tr>\n",
              "    <tr>\n",
              "      <th>1</th>\n",
              "      <td>10.5</td>\n",
              "      <td>791.0</td>\n",
              "      <td>47.0</td>\n",
              "      <td>0.0000</td>\n",
              "      <td>134.0</td>\n",
              "      <td>0.000486</td>\n",
              "      <td>0.000106</td>\n",
              "      <td>3.169052</td>\n",
              "    </tr>\n",
              "    <tr>\n",
              "      <th>2</th>\n",
              "      <td>10.5</td>\n",
              "      <td>1087.0</td>\n",
              "      <td>80.0</td>\n",
              "      <td>0.0000</td>\n",
              "      <td>61.0</td>\n",
              "      <td>0.000494</td>\n",
              "      <td>0.000864</td>\n",
              "      <td>6.307375</td>\n",
              "    </tr>\n",
              "    <tr>\n",
              "      <th>3</th>\n",
              "      <td>10.5</td>\n",
              "      <td>598.0</td>\n",
              "      <td>271.0</td>\n",
              "      <td>15.6638</td>\n",
              "      <td>68.0</td>\n",
              "      <td>0.000031</td>\n",
              "      <td>0.000133</td>\n",
              "      <td>0.862217</td>\n",
              "    </tr>\n",
              "  </tbody>\n",
              "</table>\n",
              "</div>"
            ],
            "text/plain": [
              "   additional_fare  duration  meter_waiting  ...  lat_move  lon_move  distance\n",
              "0             10.5     834.0           56.0  ...  0.000712  0.000367  5.094369\n",
              "1             10.5     791.0           47.0  ...  0.000486  0.000106  3.169052\n",
              "2             10.5    1087.0           80.0  ...  0.000494  0.000864  6.307375\n",
              "3             10.5     598.0          271.0  ...  0.000031  0.000133  0.862217\n",
              "\n",
              "[4 rows x 8 columns]"
            ]
          },
          "metadata": {
            "tags": []
          },
          "execution_count": 211
        }
      ]
    },
    {
      "cell_type": "code",
      "metadata": {
        "id": "NwPXuqS9zaxQ",
        "colab_type": "code",
        "colab": {}
      },
      "source": [
        "clf1 = XGBClassifier(learning_rate=0.01,\n",
        "                    n_estimators=4500,\n",
        "                    max_depth=6,\n",
        "                    min_child_weight=6,\n",
        "                    subsample=0.9,\n",
        "                    colsample_bytree=0.9,\n",
        "                    reg_alpha=0.004,\n",
        "                    objective='binary:logistic',\n",
        "                    scale_pos_weight=1,\n",
        "                    seed=22)"
      ],
      "execution_count": null,
      "outputs": []
    },
    {
      "cell_type": "code",
      "metadata": {
        "id": "2JDrjHJn-xyg",
        "colab_type": "code",
        "colab": {
          "base_uri": "https://localhost:8080/",
          "height": 51
        },
        "outputId": "499a87cc-64a1-4387-df93-ea76b14f2ddf"
      },
      "source": [
        "# train classifier\n",
        "clf1 = clf1.fit(x_train, y_train)\n",
        "\n",
        "#classify the ride fare\n",
        "y_predict = clf1.predict(x_test)\n",
        "\n",
        "print('accuracy_score:', metrics.accuracy_score(y_test, y_predict))\n",
        "print('f1_score:', metrics.f1_score(y_test, y_predict))"
      ],
      "execution_count": null,
      "outputs": [
        {
          "output_type": "stream",
          "text": [
            "accuracy_score: 0.9217633042096902\n",
            "f1_score: 0.9582095884599068\n"
          ],
          "name": "stdout"
        }
      ]
    },
    {
      "cell_type": "code",
      "metadata": {
        "id": "sHhp5NzamAmZ",
        "colab_type": "code",
        "colab": {}
      },
      "source": [
        "y_valid = clf1.predict(x_valid)"
      ],
      "execution_count": null,
      "outputs": []
    },
    {
      "cell_type": "code",
      "metadata": {
        "id": "X6NVaHjnnU-i",
        "colab_type": "code",
        "colab": {}
      },
      "source": [
        "df = pd.DataFrame(y_valid, columns=['prediction'], index=data1['tripid'])\n",
        "df.index.name = 'tripid'\n",
        "\n",
        "df.to_csv('submission_XGB1.csv')"
      ],
      "execution_count": null,
      "outputs": []
    }
  ]
}